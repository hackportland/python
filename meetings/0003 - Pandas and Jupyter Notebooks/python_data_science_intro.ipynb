{
 "cells": [
  {
   "cell_type": "code",
   "execution_count": 1,
   "metadata": {},
   "outputs": [],
   "source": [
    "### AUTHOR: Tim Meehan\n",
    "### PRESENTED: python hack night, 2/19/19\n",
    "### contact: on slack at hack-portland.slack.com"
   ]
  },
  {
   "cell_type": "code",
   "execution_count": 2,
   "metadata": {},
   "outputs": [],
   "source": [
    "import pandas as pd\n",
    "import numpy as np\n",
    "import matplotlib.pyplot as plt \n",
    "%matplotlib inline"
   ]
  },
  {
   "cell_type": "markdown",
   "metadata": {},
   "source": [
    "# Pandas"
   ]
  },
  {
   "cell_type": "markdown",
   "metadata": {},
   "source": [
    "pandas is a python library that provides a dataframe structure (think excel spreadsheet). It contains built in data manipulation and statistics functions. This notebook will use dataframes built from python dicts and read from csv's. It has a built in read function for many formats, see http://pandas.pydata.org/pandas-docs/version/0.15/io.html for complete list."
   ]
  },
  {
   "cell_type": "code",
   "execution_count": 3,
   "metadata": {},
   "outputs": [],
   "source": [
    "# Example 1 - creating a dataframe"
   ]
  },
  {
   "cell_type": "code",
   "execution_count": 4,
   "metadata": {},
   "outputs": [],
   "source": [
    "# create a new dataframe and store it under 'dataframe'\n",
    "dataframe = pd.DataFrame(\n",
    " {'col1': [1, 2, 3, 4, 5, 6], \n",
    " 'col2': ['a', 'b', 'b', 'a', 'a', 'b'],\n",
    " 'col3': [130, 145, 145, 123, 140, 157]})"
   ]
  },
  {
   "cell_type": "code",
   "execution_count": 5,
   "metadata": {},
   "outputs": [
    {
     "data": {
      "text/html": [
       "<div>\n",
       "<style scoped>\n",
       " .dataframe tbody tr th:only-of-type {\n",
       " vertical-align: middle;\n",
       " }\n",
       "\n",
       " .dataframe tbody tr th {\n",
       " vertical-align: top;\n",
       " }\n",
       "\n",
       " .dataframe thead th {\n",
       " text-align: right;\n",
       " }\n",
       "</style>\n",
       "<table border=\"1\" class=\"dataframe\">\n",
       " <thead>\n",
       " <tr style=\"text-align: right;\">\n",
       " <th></th>\n",
       " <th>col1</th>\n",
       " <th>col2</th>\n",
       " <th>col3</th>\n",
       " </tr>\n",
       " </thead>\n",
       " <tbody>\n",
       " <tr>\n",
       " <th>0</th>\n",
       " <td>1</td>\n",
       " <td>a</td>\n",
       " <td>130</td>\n",
       " </tr>\n",
       " <tr>\n",
       " <th>1</th>\n",
       " <td>2</td>\n",
       " <td>b</td>\n",
       " <td>145</td>\n",
       " </tr>\n",
       " <tr>\n",
       " <th>2</th>\n",
       " <td>3</td>\n",
       " <td>b</td>\n",
       " <td>145</td>\n",
       " </tr>\n",
       " <tr>\n",
       " <th>3</th>\n",
       " <td>4</td>\n",
       " <td>a</td>\n",
       " <td>123</td>\n",
       " </tr>\n",
       " <tr>\n",
       " <th>4</th>\n",
       " <td>5</td>\n",
       " <td>a</td>\n",
       " <td>140</td>\n",
       " </tr>\n",
       " </tbody>\n",
       "</table>\n",
       "</div>"
      ],
      "text/plain": [
       " col1 col2 col3\n",
       "0 1 a 130\n",
       "1 2 b 145\n",
       "2 3 b 145\n",
       "3 4 a 123\n",
       "4 5 a 140"
      ]
     },
     "execution_count": 5,
     "metadata": {},
     "output_type": "execute_result"
    }
   ],
   "source": [
    "# print the dataframe to the output\n",
    "dataframe.head()"
   ]
  },
  {
   "cell_type": "code",
   "execution_count": 6,
   "metadata": {},
   "outputs": [
    {
     "data": {
      "text/plain": [
       "b 3\n",
       "a 3\n",
       "Name: col2, dtype: int64"
      ]
     },
     "execution_count": 6,
     "metadata": {},
     "output_type": "execute_result"
    }
   ],
   "source": [
    "# count the number of times a value occurs in a column\n",
    "dataframe['col2'].value_counts()"
   ]
  },
  {
   "cell_type": "code",
   "execution_count": 7,
   "metadata": {},
   "outputs": [
    {
     "data": {
      "text/html": [
       "<div>\n",
       "<style scoped>\n",
       " .dataframe tbody tr th:only-of-type {\n",
       " vertical-align: middle;\n",
       " }\n",
       "\n",
       " .dataframe tbody tr th {\n",
       " vertical-align: top;\n",
       " }\n",
       "\n",
       " .dataframe thead th {\n",
       " text-align: right;\n",
       " }\n",
       "</style>\n",
       "<table border=\"1\" class=\"dataframe\">\n",
       " <thead>\n",
       " <tr style=\"text-align: right;\">\n",
       " <th></th>\n",
       " <th>col1</th>\n",
       " <th>col2</th>\n",
       " <th>col3</th>\n",
       " </tr>\n",
       " </thead>\n",
       " <tbody>\n",
       " <tr>\n",
       " <th>2</th>\n",
       " <td>3</td>\n",
       " <td>b</td>\n",
       " <td>145</td>\n",
       " </tr>\n",
       " <tr>\n",
       " <th>5</th>\n",
       " <td>6</td>\n",
       " <td>b</td>\n",
       " <td>157</td>\n",
       " </tr>\n",
       " </tbody>\n",
       "</table>\n",
       "</div>"
      ],
      "text/plain": [
       " col1 col2 col3\n",
       "2 3 b 145\n",
       "5 6 b 157"
      ]
     },
     "execution_count": 7,
     "metadata": {},
     "output_type": "execute_result"
    }
   ],
   "source": [
    "# filter the dataframe based on column values\n",
    "dataframe[dataframe['col3'].gt(140) & dataframe['col1'].gt(2)]"
   ]
  },
  {
   "cell_type": "code",
   "execution_count": 8,
   "metadata": {},
   "outputs": [
    {
     "data": {
      "text/plain": [
       "0 False\n",
       "1 False\n",
       "2 True\n",
       "3 False\n",
       "4 False\n",
       "5 True\n",
       "dtype: bool"
      ]
     },
     "execution_count": 8,
     "metadata": {},
     "output_type": "execute_result"
    }
   ],
   "source": [
    "# a filter just takes a boolean mask as input\n",
    "dataframe['col3'].gt(140) & dataframe['col1'].gt(2)"
   ]
  },
  {
   "cell_type": "code",
   "execution_count": 9,
   "metadata": {},
   "outputs": [
    {
     "data": {
      "text/html": [
       "<div>\n",
       "<style scoped>\n",
       " .dataframe tbody tr th:only-of-type {\n",
       " vertical-align: middle;\n",
       " }\n",
       "\n",
       " .dataframe tbody tr th {\n",
       " vertical-align: top;\n",
       " }\n",
       "\n",
       " .dataframe thead th {\n",
       " text-align: right;\n",
       " }\n",
       "</style>\n",
       "<table border=\"1\" class=\"dataframe\">\n",
       " <thead>\n",
       " <tr style=\"text-align: right;\">\n",
       " <th></th>\n",
       " <th>col1</th>\n",
       " <th>col2</th>\n",
       " <th>col3</th>\n",
       " <th>col4</th>\n",
       " </tr>\n",
       " </thead>\n",
       " <tbody>\n",
       " <tr>\n",
       " <th>0</th>\n",
       " <td>1</td>\n",
       " <td>a</td>\n",
       " <td>130</td>\n",
       " <td>131</td>\n",
       " </tr>\n",
       " <tr>\n",
       " <th>1</th>\n",
       " <td>2</td>\n",
       " <td>b</td>\n",
       " <td>145</td>\n",
       " <td>147</td>\n",
       " </tr>\n",
       " <tr>\n",
       " <th>2</th>\n",
       " <td>3</td>\n",
       " <td>b</td>\n",
       " <td>145</td>\n",
       " <td>148</td>\n",
       " </tr>\n",
       " <tr>\n",
       " <th>3</th>\n",
       " <td>4</td>\n",
       " <td>a</td>\n",
       " <td>123</td>\n",
       " <td>127</td>\n",
       " </tr>\n",
       " <tr>\n",
       " <th>4</th>\n",
       " <td>5</td>\n",
       " <td>a</td>\n",
       " <td>140</td>\n",
       " <td>145</td>\n",
       " </tr>\n",
       " <tr>\n",
       " <th>5</th>\n",
       " <td>6</td>\n",
       " <td>b</td>\n",
       " <td>157</td>\n",
       " <td>163</td>\n",
       " </tr>\n",
       " </tbody>\n",
       "</table>\n",
       "</div>"
      ],
      "text/plain": [
       " col1 col2 col3 col4\n",
       "0 1 a 130 131\n",
       "1 2 b 145 147\n",
       "2 3 b 145 148\n",
       "3 4 a 123 127\n",
       "4 5 a 140 145\n",
       "5 6 b 157 163"
      ]
     },
     "execution_count": 9,
     "metadata": {},
     "output_type": "execute_result"
    }
   ],
   "source": [
    "# add a column, that is the sum of two columns\n",
    "dataframe['col4'] = dataframe['col1'] + dataframe['col3']\n",
    "dataframe"
   ]
  },
  {
   "cell_type": "code",
   "execution_count": 10,
   "metadata": {},
   "outputs": [
    {
     "data": {
      "text/html": [
       "<div>\n",
       "<style scoped>\n",
       " .dataframe tbody tr th:only-of-type {\n",
       " vertical-align: middle;\n",
       " }\n",
       "\n",
       " .dataframe tbody tr th {\n",
       " vertical-align: top;\n",
       " }\n",
       "\n",
       " .dataframe thead th {\n",
       " text-align: right;\n",
       " }\n",
       "</style>\n",
       "<table border=\"1\" class=\"dataframe\">\n",
       " <thead>\n",
       " <tr style=\"text-align: right;\">\n",
       " <th></th>\n",
       " <th>col1</th>\n",
       " <th>col2</th>\n",
       " <th>col3</th>\n",
       " <th>col4</th>\n",
       " <th>col5</th>\n",
       " </tr>\n",
       " </thead>\n",
       " <tbody>\n",
       " <tr>\n",
       " <th>0</th>\n",
       " <td>1</td>\n",
       " <td>a</td>\n",
       " <td>130</td>\n",
       " <td>131</td>\n",
       " <td>0</td>\n",
       " </tr>\n",
       " <tr>\n",
       " <th>1</th>\n",
       " <td>2</td>\n",
       " <td>b</td>\n",
       " <td>145</td>\n",
       " <td>147</td>\n",
       " <td>1</td>\n",
       " </tr>\n",
       " <tr>\n",
       " <th>2</th>\n",
       " <td>3</td>\n",
       " <td>b</td>\n",
       " <td>145</td>\n",
       " <td>148</td>\n",
       " <td>1</td>\n",
       " </tr>\n",
       " <tr>\n",
       " <th>3</th>\n",
       " <td>4</td>\n",
       " <td>a</td>\n",
       " <td>123</td>\n",
       " <td>127</td>\n",
       " <td>0</td>\n",
       " </tr>\n",
       " <tr>\n",
       " <th>4</th>\n",
       " <td>5</td>\n",
       " <td>a</td>\n",
       " <td>140</td>\n",
       " <td>145</td>\n",
       " <td>0</td>\n",
       " </tr>\n",
       " <tr>\n",
       " <th>5</th>\n",
       " <td>6</td>\n",
       " <td>b</td>\n",
       " <td>157</td>\n",
       " <td>163</td>\n",
       " <td>1</td>\n",
       " </tr>\n",
       " </tbody>\n",
       "</table>\n",
       "</div>"
      ],
      "text/plain": [
       " col1 col2 col3 col4 col5\n",
       "0 1 a 130 131 0\n",
       "1 2 b 145 147 1\n",
       "2 3 b 145 148 1\n",
       "3 4 a 123 127 0\n",
       "4 5 a 140 145 0\n",
       "5 6 b 157 163 1"
      ]
     },
     "execution_count": 10,
     "metadata": {},
     "output_type": "execute_result"
    }
   ],
   "source": [
    "# define some complicated function, and apply it to each value in a column (series)\n",
    "def mod_col_3(val):\n",
    " \"\"\"if val gt 140 return 1, else return 0\"\"\"\n",
    " if val > 140:\n",
    " output = 1\n",
    " else:\n",
    " output = 0\n",
    " return output\n",
    "\n",
    "# the apply function returns a new series, it will not change the input series\n",
    "# we will assign the result to a new column in the df\n",
    "dataframe['col5'] = dataframe['col3'].apply(mod_col_3)\n",
    "dataframe"
   ]
  },
  {
   "cell_type": "code",
   "execution_count": 11,
   "metadata": {},
   "outputs": [
    {
     "data": {
      "text/html": [
       "<div>\n",
       "<style scoped>\n",
       " .dataframe tbody tr th:only-of-type {\n",
       " vertical-align: middle;\n",
       " }\n",
       "\n",
       " .dataframe tbody tr th {\n",
       " vertical-align: top;\n",
       " }\n",
       "\n",
       " .dataframe thead th {\n",
       " text-align: right;\n",
       " }\n",
       "</style>\n",
       "<table border=\"1\" class=\"dataframe\">\n",
       " <thead>\n",
       " <tr style=\"text-align: right;\">\n",
       " <th></th>\n",
       " <th>col1</th>\n",
       " <th>col3</th>\n",
       " <th>col4</th>\n",
       " <th>col5</th>\n",
       " </tr>\n",
       " </thead>\n",
       " <tbody>\n",
       " <tr>\n",
       " <th>count</th>\n",
       " <td>6.000000</td>\n",
       " <td>6.000000</td>\n",
       " <td>6.000000</td>\n",
       " <td>6.000000</td>\n",
       " </tr>\n",
       " <tr>\n",
       " <th>mean</th>\n",
       " <td>3.500000</td>\n",
       " <td>140.000000</td>\n",
       " <td>143.500000</td>\n",
       " <td>0.500000</td>\n",
       " </tr>\n",
       " <tr>\n",
       " <th>std</th>\n",
       " <td>1.870829</td>\n",
       " <td>12.066483</td>\n",
       " <td>12.988456</td>\n",
       " <td>0.547723</td>\n",
       " </tr>\n",
       " <tr>\n",
       " <th>min</th>\n",
       " <td>1.000000</td>\n",
       " <td>123.000000</td>\n",
       " <td>127.000000</td>\n",
       " <td>0.000000</td>\n",
       " </tr>\n",
       " <tr>\n",
       " <th>25%</th>\n",
       " <td>2.250000</td>\n",
       " <td>132.500000</td>\n",
       " <td>134.500000</td>\n",
       " <td>0.000000</td>\n",
       " </tr>\n",
       " <tr>\n",
       " <th>50%</th>\n",
       " <td>3.500000</td>\n",
       " <td>142.500000</td>\n",
       " <td>146.000000</td>\n",
       " <td>0.500000</td>\n",
       " </tr>\n",
       " <tr>\n",
       " <th>75%</th>\n",
       " <td>4.750000</td>\n",
       " <td>145.000000</td>\n",
       " <td>147.750000</td>\n",
       " <td>1.000000</td>\n",
       " </tr>\n",
       " <tr>\n",
       " <th>max</th>\n",
       " <td>6.000000</td>\n",
       " <td>157.000000</td>\n",
       " <td>163.000000</td>\n",
       " <td>1.000000</td>\n",
       " </tr>\n",
       " </tbody>\n",
       "</table>\n",
       "</div>"
      ],
      "text/plain": [
       " col1 col3 col4 col5\n",
       "count 6.000000 6.000000 6.000000 6.000000\n",
       "mean 3.500000 140.000000 143.500000 0.500000\n",
       "std 1.870829 12.066483 12.988456 0.547723\n",
       "min 1.000000 123.000000 127.000000 0.000000\n",
       "25% 2.250000 132.500000 134.500000 0.000000\n",
       "50% 3.500000 142.500000 146.000000 0.500000\n",
       "75% 4.750000 145.000000 147.750000 1.000000\n",
       "max 6.000000 157.000000 163.000000 1.000000"
      ]
     },
     "execution_count": 11,
     "metadata": {},
     "output_type": "execute_result"
    }
   ],
   "source": [
    "# get statistics automatically on all numeric columns\n",
    "dataframe.describe()"
   ]
  },
  {
   "cell_type": "code",
   "execution_count": 12,
   "metadata": {},
   "outputs": [
    {
     "data": {
      "text/plain": [
       "140.0"
      ]
     },
     "execution_count": 12,
     "metadata": {},
     "output_type": "execute_result"
    }
   ],
   "source": [
    "#take the mean of col3\n",
    "dataframe.col3.mean()"
   ]
  },
  {
   "cell_type": "markdown",
   "metadata": {},
   "source": [
    "# matplotlib"
   ]
  },
  {
   "cell_type": "markdown",
   "metadata": {},
   "source": [
    "matplotlib is the most standard plotting library for python, however there are many more to chose from."
   ]
  },
  {
   "cell_type": "code",
   "execution_count": 13,
   "metadata": {},
   "outputs": [],
   "source": [
    "# pandas has some matplotlib functionality built in"
   ]
  },
  {
   "cell_type": "code",
   "execution_count": 14,
   "metadata": {},
   "outputs": [
    {
     "data": {
      "text/html": [
       "<div>\n",
       "<style scoped>\n",
       " .dataframe tbody tr th:only-of-type {\n",
       " vertical-align: middle;\n",
       " }\n",
       "\n",
       " .dataframe tbody tr th {\n",
       " vertical-align: top;\n",
       " }\n",
       "\n",
       " .dataframe thead th {\n",
       " text-align: right;\n",
       " }\n",
       "</style>\n",
       "<table border=\"1\" class=\"dataframe\">\n",
       " <thead>\n",
       " <tr style=\"text-align: right;\">\n",
       " <th></th>\n",
       " <th>col1</th>\n",
       " <th>col2</th>\n",
       " <th>col3</th>\n",
       " <th>col4</th>\n",
       " <th>col5</th>\n",
       " </tr>\n",
       " </thead>\n",
       " <tbody>\n",
       " <tr>\n",
       " <th>0</th>\n",
       " <td>1</td>\n",
       " <td>a</td>\n",
       " <td>130</td>\n",
       " <td>131</td>\n",
       " <td>0</td>\n",
       " </tr>\n",
       " <tr>\n",
       " <th>1</th>\n",
       " <td>2</td>\n",
       " <td>b</td>\n",
       " <td>145</td>\n",
       " <td>147</td>\n",
       " <td>1</td>\n",
       " </tr>\n",
       " <tr>\n",
       " <th>2</th>\n",
       " <td>3</td>\n",
       " <td>b</td>\n",
       " <td>145</td>\n",
       " <td>148</td>\n",
       " <td>1</td>\n",
       " </tr>\n",
       " <tr>\n",
       " <th>3</th>\n",
       " <td>4</td>\n",
       " <td>a</td>\n",
       " <td>123</td>\n",
       " <td>127</td>\n",
       " <td>0</td>\n",
       " </tr>\n",
       " <tr>\n",
       " <th>4</th>\n",
       " <td>5</td>\n",
       " <td>a</td>\n",
       " <td>140</td>\n",
       " <td>145</td>\n",
       " <td>0</td>\n",
       " </tr>\n",
       " <tr>\n",
       " <th>5</th>\n",
       " <td>6</td>\n",
       " <td>b</td>\n",
       " <td>157</td>\n",
       " <td>163</td>\n",
       " <td>1</td>\n",
       " </tr>\n",
       " </tbody>\n",
       "</table>\n",
       "</div>"
      ],
      "text/plain": [
       " col1 col2 col3 col4 col5\n",
       "0 1 a 130 131 0\n",
       "1 2 b 145 147 1\n",
       "2 3 b 145 148 1\n",
       "3 4 a 123 127 0\n",
       "4 5 a 140 145 0\n",
       "5 6 b 157 163 1"
      ]
     },
     "execution_count": 14,
     "metadata": {},
     "output_type": "execute_result"
    }
   ],
   "source": [
    "dataframe"
   ]
  },
  {
   "cell_type": "code",
   "execution_count": 15,
   "metadata": {},
   "outputs": [
    {
     "data": {
      "text/plain": [
       "<matplotlib.axes._subplots.AxesSubplot at 0x118f2a390>"
      ]
     },
     "execution_count": 15,
     "metadata": {},
     "output_type": "execute_result"
    },
    {
     "data": {
      "image/png": "[encoded data removed]",
      "text/plain": [
       "<Figure size 432x288 with 1 Axes>"
      ]
     },
     "metadata": {
      "needs_background": "light"
     },
     "output_type": "display_data"
    }
   ],
   "source": [
    "# example bar plot\n",
    "dataframe.plot(x='col1', y='col3', kind='bar', color='b')"
   ]
  },
  {
   "cell_type": "code",
   "execution_count": 16,
   "metadata": {},
   "outputs": [
    {
     "data": {
      "text/plain": [
       "<matplotlib.axes._subplots.AxesSubplot at 0x11b625550>"
      ]
     },
     "execution_count": 16,
     "metadata": {},
     "output_type": "execute_result"
    },
    {
     "data": {
      "image/png": "[encoded data removed]",
      "text/plain": [
       "<Figure size 432x288 with 1 Axes>"
      ]
     },
     "metadata": {
      "needs_background": "light"
     },
     "output_type": "display_data"
    }
   ],
   "source": [
    "dataframe['col2'].value_counts().plot(kind='bar', color='b')"
   ]
  },
  {
   "cell_type": "code",
   "execution_count": 17,
   "metadata": {},
   "outputs": [
    {
     "data": {
      "text/plain": [
       "<matplotlib.axes._subplots.AxesSubplot at 0x11b6a7e10>"
      ]
     },
     "execution_count": 17,
     "metadata": {},
     "output_type": "execute_result"
    },
    {
     "data": {
      "image/png": "[encoded data removed]",
      "text/plain": [
       "<Figure size 432x288 with 1 Axes>"
      ]
     },
     "metadata": {
      "needs_background": "light"
     },
     "output_type": "display_data"
    }
   ],
   "source": [
    "# example scatter plot\n",
    "dataframe.plot('col1', 'col3', kind='scatter', rot=90)"
   ]
  },
  {
   "cell_type": "code",
   "execution_count": 18,
   "metadata": {},
   "outputs": [
    {
     "data": {
      "text/plain": [
       "<matplotlib.legend.Legend at 0x11b848a58>"
      ]
     },
     "execution_count": 18,
     "metadata": {},
     "output_type": "execute_result"
    },
    {
     "data": {
      "image/png": "[encoded data removed]",
      "text/plain": [
       "<Figure size 432x288 with 2 Axes>"
      ]
     },
     "metadata": {
      "needs_background": "light"
     },
     "output_type": "display_data"
    }
   ],
   "source": [
    "# dual y-axis\n",
    "ax = dataframe.plot('col1', 'col3', kind='scatter', label='col3')\n",
    "ax2 = ax.twinx() #pyplot\n",
    "dataframe.plot('col1', 'col4', kind='scatter', ax=ax2, label='col4', color='orange')\n",
    "ax2.legend(loc=1) #pyplot"
   ]
  },
  {
   "cell_type": "markdown",
   "metadata": {},
   "source": [
    "## data from csv"
   ]
  },
  {
   "cell_type": "code",
   "execution_count": 19,
   "metadata": {},
   "outputs": [],
   "source": [
    "### this section will introduce reading csv, groupby, merge and pivot_table functions"
   ]
  },
  {
   "cell_type": "code",
   "execution_count": 20,
   "metadata": {},
   "outputs": [],
   "source": [
    "iris = pd.read_csv('https://raw.githubusercontent.com/mwaskom/seaborn-data/master/iris.csv')"
   ]
  },
  {
   "cell_type": "code",
   "execution_count": 21,
   "metadata": {},
   "outputs": [
    {
     "data": {
      "text/plain": [
       "(150, 5)"
      ]
     },
     "execution_count": 21,
     "metadata": {},
     "output_type": "execute_result"
    }
   ],
   "source": [
    "iris.shape"
   ]
  },
  {
   "cell_type": "code",
   "execution_count": 22,
   "metadata": {},
   "outputs": [
    {
     "data": {
      "text/html": [
       "<div>\n",
       "<style scoped>\n",
       " .dataframe tbody tr th:only-of-type {\n",
       " vertical-align: middle;\n",
       " }\n",
       "\n",
       " .dataframe tbody tr th {\n",
       " vertical-align: top;\n",
       " }\n",
       "\n",
       " .dataframe thead th {\n",
       " text-align: right;\n",
       " }\n",
       "</style>\n",
       "<table border=\"1\" class=\"dataframe\">\n",
       " <thead>\n",
       " <tr style=\"text-align: right;\">\n",
       " <th></th>\n",
       " <th>sepal_length</th>\n",
       " <th>sepal_width</th>\n",
       " <th>petal_length</th>\n",
       " <th>petal_width</th>\n",
       " <th>species</th>\n",
       " </tr>\n",
       " </thead>\n",
       " <tbody>\n",
       " <tr>\n",
       " <th>0</th>\n",
       " <td>5.1</td>\n",
       " <td>3.5</td>\n",
       " <td>1.4</td>\n",
       " <td>0.2</td>\n",
       " <td>setosa</td>\n",
       " </tr>\n",
       " <tr>\n",
       " <th>1</th>\n",
       " <td>4.9</td>\n",
       " <td>3.0</td>\n",
       " <td>1.4</td>\n",
       " <td>0.2</td>\n",
       " <td>setosa</td>\n",
       " </tr>\n",
       " <tr>\n",
       " <th>2</th>\n",
       " <td>4.7</td>\n",
       " <td>3.2</td>\n",
       " <td>1.3</td>\n",
       " <td>0.2</td>\n",
       " <td>setosa</td>\n",
       " </tr>\n",
       " <tr>\n",
       " <th>3</th>\n",
       " <td>4.6</td>\n",
       " <td>3.1</td>\n",
       " <td>1.5</td>\n",
       " <td>0.2</td>\n",
       " <td>setosa</td>\n",
       " </tr>\n",
       " <tr>\n",
       " <th>4</th>\n",
       " <td>5.0</td>\n",
       " <td>3.6</td>\n",
       " <td>1.4</td>\n",
       " <td>0.2</td>\n",
       " <td>setosa</td>\n",
       " </tr>\n",
       " </tbody>\n",
       "</table>\n",
       "</div>"
      ],
      "text/plain": [
       " sepal_length sepal_width petal_length petal_width species\n",
       "0 5.1 3.5 1.4 0.2 setosa\n",
       "1 4.9 3.0 1.4 0.2 setosa\n",
       "2 4.7 3.2 1.3 0.2 setosa\n",
       "3 4.6 3.1 1.5 0.2 setosa\n",
       "4 5.0 3.6 1.4 0.2 setosa"
      ]
     },
     "execution_count": 22,
     "metadata": {},
     "output_type": "execute_result"
    }
   ],
   "source": [
    "iris.head()"
   ]
  },
  {
   "cell_type": "code",
   "execution_count": 23,
   "metadata": {},
   "outputs": [
    {
     "data": {
      "text/plain": [
       "<matplotlib.axes._subplots.AxesSubplot at 0x11b89ddd8>"
      ]
     },
     "execution_count": 23,
     "metadata": {},
     "output_type": "execute_result"
    },
    {
     "data": {
      "image/png": "[encoded data removed]",
      "text/plain": [
       "<Figure size 432x288 with 1 Axes>"
      ]
     },
     "metadata": {
      "needs_background": "light"
     },
     "output_type": "display_data"
    }
   ],
   "source": [
    "# check avg of each value based on species\n",
    "iris.groupby('species').mean().plot(kind='bar')"
   ]
  },
  {
   "cell_type": "code",
   "execution_count": 24,
   "metadata": {},
   "outputs": [],
   "source": [
    "grouped = iris.groupby('species').agg({'sepal_length': ['mean','std'],\n",
    " 'sepal_width': 'count'})"
   ]
  },
  {
   "cell_type": "code",
   "execution_count": 25,
   "metadata": {},
   "outputs": [
    {
     "data": {
      "text/html": [
       "<div>\n",
       "<style scoped>\n",
       " .dataframe tbody tr th:only-of-type {\n",
       " vertical-align: middle;\n",
       " }\n",
       "\n",
       " .dataframe tbody tr th {\n",
       " vertical-align: top;\n",
       " }\n",
       "\n",
       " .dataframe thead tr th {\n",
       " text-align: left;\n",
       " }\n",
       "\n",
       " .dataframe thead tr:last-of-type th {\n",
       " text-align: right;\n",
       " }\n",
       "</style>\n",
       "<table border=\"1\" class=\"dataframe\">\n",
       " <thead>\n",
       " <tr>\n",
       " <th></th>\n",
       " <th colspan=\"2\" halign=\"left\">sepal_length</th>\n",
       " <th>sepal_width</th>\n",
       " </tr>\n",
       " <tr>\n",
       " <th></th>\n",
       " <th>mean</th>\n",
       " <th>std</th>\n",
       " <th>count</th>\n",
       " </tr>\n",
       " <tr>\n",
       " <th>species</th>\n",
       " <th></th>\n",
       " <th></th>\n",
       " <th></th>\n",
       " </tr>\n",
       " </thead>\n",
       " <tbody>\n",
       " <tr>\n",
       " <th>setosa</th>\n",
       " <td>5.006</td>\n",
       " <td>0.352490</td>\n",
       " <td>50</td>\n",
       " </tr>\n",
       " <tr>\n",
       " <th>versicolor</th>\n",
       " <td>5.936</td>\n",
       " <td>0.516171</td>\n",
       " <td>50</td>\n",
       " </tr>\n",
       " <tr>\n",
       " <th>virginica</th>\n",
       " <td>6.588</td>\n",
       " <td>0.635880</td>\n",
       " <td>50</td>\n",
       " </tr>\n",
       " </tbody>\n",
       "</table>\n",
       "</div>"
      ],
      "text/plain": [
       " sepal_length sepal_width\n",
       " mean std count\n",
       "species \n",
       "setosa 5.006 0.352490 50\n",
       "versicolor 5.936 0.516171 50\n",
       "virginica 6.588 0.635880 50"
      ]
     },
     "execution_count": 25,
     "metadata": {},
     "output_type": "execute_result"
    }
   ],
   "source": [
    "grouped"
   ]
  },
  {
   "cell_type": "code",
   "execution_count": 26,
   "metadata": {},
   "outputs": [
    {
     "data": {
      "text/plain": [
       "array([('sepal_length', 'mean'), ('sepal_length', 'std'),\n",
       " ('sepal_width', 'count')], dtype=object)"
      ]
     },
     "execution_count": 26,
     "metadata": {},
     "output_type": "execute_result"
    }
   ],
   "source": [
    "grouped.columns.values"
   ]
  },
  {
   "cell_type": "code",
   "execution_count": 27,
   "metadata": {},
   "outputs": [],
   "source": [
    "grouped.columns = ['_'.join(col).strip() for col in grouped.columns.values]"
   ]
  },
  {
   "cell_type": "code",
   "execution_count": 28,
   "metadata": {},
   "outputs": [
    {
     "data": {
      "image/png": "[encoded data removed]",
      "text/plain": [
       "<Figure size 432x288 with 1 Axes>"
      ]
     },
     "metadata": {
      "needs_background": "light"
     },
     "output_type": "display_data"
    },
    {
     "data": {
      "image/png": "[encoded data removed]",
      "text/plain": [
       "<Figure size 432x288 with 1 Axes>"
      ]
     },
     "metadata": {
      "needs_background": "light"
     },
     "output_type": "display_data"
    },
    {
     "data": {
      "image/png": "[encoded data removed]",
      "text/plain": [
       "<Figure size 432x288 with 1 Axes>"
      ]
     },
     "metadata": {
      "needs_background": "light"
     },
     "output_type": "display_data"
    }
   ],
   "source": [
    "# iterate through subset of dataframe\n",
    "# each \"df\" in forloop is a filtered dataframe based on the groupby argument\n",
    "# \"grp\" will contain the column val, or list of values, that the current df is filtered by\n",
    "for grp, df in iris.groupby('species'):\n",
    " df.plot('sepal_length','sepal_width', kind='scatter', title=grp)"
   ]
  },
  {
   "cell_type": "code",
   "execution_count": 29,
   "metadata": {},
   "outputs": [],
   "source": [
    "exercise = pd.read_csv('https://raw.githubusercontent.com/mwaskom/seaborn-data/master/exercise.csv', index_col=0)"
   ]
  },
  {
   "cell_type": "code",
   "execution_count": 30,
   "metadata": {},
   "outputs": [
    {
     "data": {
      "text/html": [
       "<div>\n",
       "<style scoped>\n",
       " .dataframe tbody tr th:only-of-type {\n",
       " vertical-align: middle;\n",
       " }\n",
       "\n",
       " .dataframe tbody tr th {\n",
       " vertical-align: top;\n",
       " }\n",
       "\n",
       " .dataframe thead th {\n",
       " text-align: right;\n",
       " }\n",
       "</style>\n",
       "<table border=\"1\" class=\"dataframe\">\n",
       " <thead>\n",
       " <tr style=\"text-align: right;\">\n",
       " <th></th>\n",
       " <th>id</th>\n",
       " <th>diet</th>\n",
       " <th>pulse</th>\n",
       " <th>time</th>\n",
       " <th>kind</th>\n",
       " </tr>\n",
       " </thead>\n",
       " <tbody>\n",
       " <tr>\n",
       " <th>0</th>\n",
       " <td>1</td>\n",
       " <td>low fat</td>\n",
       " <td>85</td>\n",
       " <td>1 min</td>\n",
       " <td>rest</td>\n",
       " </tr>\n",
       " <tr>\n",
       " <th>1</th>\n",
       " <td>1</td>\n",
       " <td>low fat</td>\n",
       " <td>85</td>\n",
       " <td>15 min</td>\n",
       " <td>rest</td>\n",
       " </tr>\n",
       " <tr>\n",
       " <th>2</th>\n",
       " <td>1</td>\n",
       " <td>low fat</td>\n",
       " <td>88</td>\n",
       " <td>30 min</td>\n",
       " <td>rest</td>\n",
       " </tr>\n",
       " <tr>\n",
       " <th>3</th>\n",
       " <td>2</td>\n",
       " <td>low fat</td>\n",
       " <td>90</td>\n",
       " <td>1 min</td>\n",
       " <td>rest</td>\n",
       " </tr>\n",
       " <tr>\n",
       " <th>4</th>\n",
       " <td>2</td>\n",
       " <td>low fat</td>\n",
       " <td>92</td>\n",
       " <td>15 min</td>\n",
       " <td>rest</td>\n",
       " </tr>\n",
       " </tbody>\n",
       "</table>\n",
       "</div>"
      ],
      "text/plain": [
       " id diet pulse time kind\n",
       "0 1 low fat 85 1 min rest\n",
       "1 1 low fat 85 15 min rest\n",
       "2 1 low fat 88 30 min rest\n",
       "3 2 low fat 90 1 min rest\n",
       "4 2 low fat 92 15 min rest"
      ]
     },
     "execution_count": 30,
     "metadata": {},
     "output_type": "execute_result"
    }
   ],
   "source": [
    "exercise.head()"
   ]
  },
  {
   "cell_type": "code",
   "execution_count": 31,
   "metadata": {},
   "outputs": [
    {
     "data": {
      "text/plain": [
       "array(['1 min', '15 min', '30 min'], dtype=object)"
      ]
     },
     "execution_count": 31,
     "metadata": {},
     "output_type": "execute_result"
    }
   ],
   "source": [
    "exercise['time'].unique()"
   ]
  },
  {
   "cell_type": "code",
   "execution_count": 32,
   "metadata": {},
   "outputs": [
    {
     "data": {
      "text/html": [
       "<div>\n",
       "<style scoped>\n",
       " .dataframe tbody tr th:only-of-type {\n",
       " vertical-align: middle;\n",
       " }\n",
       "\n",
       " .dataframe tbody tr th {\n",
       " vertical-align: top;\n",
       " }\n",
       "\n",
       " .dataframe thead th {\n",
       " text-align: right;\n",
       " }\n",
       "</style>\n",
       "<table border=\"1\" class=\"dataframe\">\n",
       " <thead>\n",
       " <tr style=\"text-align: right;\">\n",
       " <th></th>\n",
       " <th>time</th>\n",
       " <th>1 min</th>\n",
       " <th>15 min</th>\n",
       " <th>30 min</th>\n",
       " </tr>\n",
       " <tr>\n",
       " <th>diet</th>\n",
       " <th>kind</th>\n",
       " <th></th>\n",
       " <th></th>\n",
       " <th></th>\n",
       " </tr>\n",
       " </thead>\n",
       " <tbody>\n",
       " <tr>\n",
       " <th rowspan=\"3\" valign=\"top\">low fat</th>\n",
       " <th>rest</th>\n",
       " <td>97</td>\n",
       " <td>97</td>\n",
       " <td>94</td>\n",
       " </tr>\n",
       " <tr>\n",
       " <th>running</th>\n",
       " <td>98</td>\n",
       " <td>132</td>\n",
       " <td>120</td>\n",
       " </tr>\n",
       " <tr>\n",
       " <th>walking</th>\n",
       " <td>95</td>\n",
       " <td>103</td>\n",
       " <td>104</td>\n",
       " </tr>\n",
       " <tr>\n",
       " <th rowspan=\"3\" valign=\"top\">no fat</th>\n",
       " <th>rest</th>\n",
       " <td>100</td>\n",
       " <td>99</td>\n",
       " <td>100</td>\n",
       " </tr>\n",
       " <tr>\n",
       " <th>running</th>\n",
       " <td>103</td>\n",
       " <td>135</td>\n",
       " <td>150</td>\n",
       " </tr>\n",
       " <tr>\n",
       " <th>walking</th>\n",
       " <td>103</td>\n",
       " <td>109</td>\n",
       " <td>103</td>\n",
       " </tr>\n",
       " </tbody>\n",
       "</table>\n",
       "</div>"
      ],
      "text/plain": [
       "time 1 min 15 min 30 min\n",
       "diet kind \n",
       "low fat rest 97 97 94\n",
       " running 98 132 120\n",
       " walking 95 103 104\n",
       "no fat rest 100 99 100\n",
       " running 103 135 150\n",
       " walking 103 109 103"
      ]
     },
     "execution_count": 32,
     "metadata": {},
     "output_type": "execute_result"
    }
   ],
   "source": [
    "exercise.pivot_table(index=['diet','kind'], columns='time', values='pulse', aggfunc='max')"
   ]
  },
  {
   "cell_type": "code",
   "execution_count": 33,
   "metadata": {},
   "outputs": [],
   "source": [
    "df1 = pd.DataFrame({'employee': ['Bob', 'Jake', 'Lisa', 'Sue'],\n",
    " 'group': ['Accounting', 'Engineering', 'Engineering', 'HR']})\n",
    "df2 = pd.DataFrame({'employee': ['Lisa', 'Bob', 'Jake', 'Sue'],\n",
    " 'hire_date': [2004, 2008, 2012, 2014]})"
   ]
  },
  {
   "cell_type": "code",
   "execution_count": 34,
   "metadata": {},
   "outputs": [
    {
     "data": {
      "text/html": [
       "<div>\n",
       "<style scoped>\n",
       " .dataframe tbody tr th:only-of-type {\n",
       " vertical-align: middle;\n",
       " }\n",
       "\n",
       " .dataframe tbody tr th {\n",
       " vertical-align: top;\n",
       " }\n",
       "\n",
       " .dataframe thead th {\n",
       " text-align: right;\n",
       " }\n",
       "</style>\n",
       "<table border=\"1\" class=\"dataframe\">\n",
       " <thead>\n",
       " <tr style=\"text-align: right;\">\n",
       " <th></th>\n",
       " <th>employee</th>\n",
       " <th>group</th>\n",
       " </tr>\n",
       " </thead>\n",
       " <tbody>\n",
       " <tr>\n",
       " <th>0</th>\n",
       " <td>Bob</td>\n",
       " <td>Accounting</td>\n",
       " </tr>\n",
       " <tr>\n",
       " <th>1</th>\n",
       " <td>Jake</td>\n",
       " <td>Engineering</td>\n",
       " </tr>\n",
       " <tr>\n",
       " <th>2</th>\n",
       " <td>Lisa</td>\n",
       " <td>Engineering</td>\n",
       " </tr>\n",
       " <tr>\n",
       " <th>3</th>\n",
       " <td>Sue</td>\n",
       " <td>HR</td>\n",
       " </tr>\n",
       " </tbody>\n",
       "</table>\n",
       "</div>"
      ],
      "text/plain": [
       " employee group\n",
       "0 Bob Accounting\n",
       "1 Jake Engineering\n",
       "2 Lisa Engineering\n",
       "3 Sue HR"
      ]
     },
     "execution_count": 34,
     "metadata": {},
     "output_type": "execute_result"
    }
   ],
   "source": [
    "df1"
   ]
  },
  {
   "cell_type": "code",
   "execution_count": 35,
   "metadata": {},
   "outputs": [
    {
     "data": {
      "text/html": [
       "<div>\n",
       "<style scoped>\n",
       " .dataframe tbody tr th:only-of-type {\n",
       " vertical-align: middle;\n",
       " }\n",
       "\n",
       " .dataframe tbody tr th {\n",
       " vertical-align: top;\n",
       " }\n",
       "\n",
       " .dataframe thead th {\n",
       " text-align: right;\n",
       " }\n",
       "</style>\n",
       "<table border=\"1\" class=\"dataframe\">\n",
       " <thead>\n",
       " <tr style=\"text-align: right;\">\n",
       " <th></th>\n",
       " <th>employee</th>\n",
       " <th>hire_date</th>\n",
       " </tr>\n",
       " </thead>\n",
       " <tbody>\n",
       " <tr>\n",
       " <th>0</th>\n",
       " <td>Lisa</td>\n",
       " <td>2004</td>\n",
       " </tr>\n",
       " <tr>\n",
       " <th>1</th>\n",
       " <td>Bob</td>\n",
       " <td>2008</td>\n",
       " </tr>\n",
       " <tr>\n",
       " <th>2</th>\n",
       " <td>Jake</td>\n",
       " <td>2012</td>\n",
       " </tr>\n",
       " <tr>\n",
       " <th>3</th>\n",
       " <td>Sue</td>\n",
       " <td>2014</td>\n",
       " </tr>\n",
       " </tbody>\n",
       "</table>\n",
       "</div>"
      ],
      "text/plain": [
       " employee hire_date\n",
       "0 Lisa 2004\n",
       "1 Bob 2008\n",
       "2 Jake 2012\n",
       "3 Sue 2014"
      ]
     },
     "execution_count": 35,
     "metadata": {},
     "output_type": "execute_result"
    }
   ],
   "source": [
    "df2"
   ]
  },
  {
   "cell_type": "code",
   "execution_count": 36,
   "metadata": {},
   "outputs": [
    {
     "data": {
      "text/html": [
       "<div>\n",
       "<style scoped>\n",
       " .dataframe tbody tr th:only-of-type {\n",
       " vertical-align: middle;\n",
       " }\n",
       "\n",
       " .dataframe tbody tr th {\n",
       " vertical-align: top;\n",
       " }\n",
       "\n",
       " .dataframe thead th {\n",
       " text-align: right;\n",
       " }\n",
       "</style>\n",
       "<table border=\"1\" class=\"dataframe\">\n",
       " <thead>\n",
       " <tr style=\"text-align: right;\">\n",
       " <th></th>\n",
       " <th>employee</th>\n",
       " <th>group</th>\n",
       " <th>hire_date</th>\n",
       " </tr>\n",
       " </thead>\n",
       " <tbody>\n",
       " <tr>\n",
       " <th>0</th>\n",
       " <td>Bob</td>\n",
       " <td>Accounting</td>\n",
       " <td>2008</td>\n",
       " </tr>\n",
       " <tr>\n",
       " <th>1</th>\n",
       " <td>Jake</td>\n",
       " <td>Engineering</td>\n",
       " <td>2012</td>\n",
       " </tr>\n",
       " <tr>\n",
       " <th>2</th>\n",
       " <td>Lisa</td>\n",
       " <td>Engineering</td>\n",
       " <td>2004</td>\n",
       " </tr>\n",
       " <tr>\n",
       " <th>3</th>\n",
       " <td>Sue</td>\n",
       " <td>HR</td>\n",
       " <td>2014</td>\n",
       " </tr>\n",
       " </tbody>\n",
       "</table>\n",
       "</div>"
      ],
      "text/plain": [
       " employee group hire_date\n",
       "0 Bob Accounting 2008\n",
       "1 Jake Engineering 2012\n",
       "2 Lisa Engineering 2004\n",
       "3 Sue HR 2014"
      ]
     },
     "execution_count": 36,
     "metadata": {},
     "output_type": "execute_result"
    }
   ],
   "source": [
    "df1.merge(df2, on=['employee'], how='left')"
   ]
  },
  {
   "cell_type": "markdown",
   "metadata": {},
   "source": [
    "## Putting it all together"
   ]
  },
  {
   "cell_type": "code",
   "execution_count": 37,
   "metadata": {},
   "outputs": [],
   "source": [
    "### In this example, we look at (fake) test results\n",
    "### we will create fake date labels, find the number of passes and fails in each,\n",
    "### then average the fails by day, which will give you yield (pass/fail is 1,0)\n",
    "### In addition, for those widgets that passed or failed, we will plot a box plot\n",
    "### to show the distribution of some parameter, could be temperature, time \n",
    "### completing some process step etc...\n",
    "\n",
    "### the end chart will show by day, how many parts were tested, the yield of those parts\n",
    "### and the distribution of some parameter, so you can see the change over time and relation\n",
    "### to the parameter "
   ]
  },
  {
   "cell_type": "code",
   "execution_count": 38,
   "metadata": {},
   "outputs": [
    {
     "data": {
      "text/plain": [
       "0 2018-03-03\n",
       "1 2018-03-03\n",
       "2 2018-03-03\n",
       "3 2018-03-03\n",
       "4 2018-03-03\n",
       "Name: date, dtype: datetime64[ns]"
      ]
     },
     "execution_count": 38,
     "metadata": {},
     "output_type": "execute_result"
    }
   ],
   "source": [
    "### create a fake time index. Use pd.Series to create a single column\n",
    "date_index = pd.Series(['2018-03-03']*10 + ['2018-03-04']*12 + ['2018-03-05']*18 + ['2018-03-06']*7 + ['2018-03-07']*9 + ['2018-03-08']*20 + ['2018-03-09']*15, name='date')\n",
    "date_index = pd.to_datetime(date_index)\n",
    "# print out preview of what the \"column\" looks like\n",
    "date_index.head()"
   ]
  },
  {
   "cell_type": "code",
   "execution_count": 39,
   "metadata": {},
   "outputs": [],
   "source": [
    "### use random numbers to generate pass and fail data\n",
    "from random import choices, gauss\n",
    "test1_yld = pd.Series(choices(population=[0, 1], weights=[30, 70], k=91), name='test1_pass_fail')\n",
    "test2_yld = pd.Series(choices([0, 1], [10, 90], k=91), name='test2_pass_fail')\n",
    "\n",
    "### create fake process parameter. Think seconds a widget spent at process step x\n",
    "process_param = pd.Series([gauss(20, 4) for i in range(91)], name='process_param')"
   ]
  },
  {
   "cell_type": "code",
   "execution_count": 40,
   "metadata": {},
   "outputs": [],
   "source": [
    "### we will also create a fake \"widget_id\"\n",
    "widget_id = pd.Series([i for i in range(len(date_index))], name='widget_id')"
   ]
  },
  {
   "cell_type": "code",
   "execution_count": 41,
   "metadata": {},
   "outputs": [
    {
     "data": {
      "text/html": [
       "<div>\n",
       "<style scoped>\n",
       " .dataframe tbody tr th:only-of-type {\n",
       " vertical-align: middle;\n",
       " }\n",
       "\n",
       " .dataframe tbody tr th {\n",
       " vertical-align: top;\n",
       " }\n",
       "\n",
       " .dataframe thead th {\n",
       " text-align: right;\n",
       " }\n",
       "</style>\n",
       "<table border=\"1\" class=\"dataframe\">\n",
       " <thead>\n",
       " <tr style=\"text-align: right;\">\n",
       " <th></th>\n",
       " <th>date</th>\n",
       " <th>test1_pass_fail</th>\n",
       " <th>test2_pass_fail</th>\n",
       " <th>process_param</th>\n",
       " <th>widget_id</th>\n",
       " </tr>\n",
       " </thead>\n",
       " <tbody>\n",
       " <tr>\n",
       " <th>0</th>\n",
       " <td>2018-03-03</td>\n",
       " <td>1</td>\n",
       " <td>1</td>\n",
       " <td>16.154771</td>\n",
       " <td>0</td>\n",
       " </tr>\n",
       " <tr>\n",
       " <th>1</th>\n",
       " <td>2018-03-03</td>\n",
       " <td>1</td>\n",
       " <td>1</td>\n",
       " <td>23.180473</td>\n",
       " <td>1</td>\n",
       " </tr>\n",
       " <tr>\n",
       " <th>2</th>\n",
       " <td>2018-03-03</td>\n",
       " <td>1</td>\n",
       " <td>1</td>\n",
       " <td>17.247763</td>\n",
       " <td>2</td>\n",
       " </tr>\n",
       " <tr>\n",
       " <th>3</th>\n",
       " <td>2018-03-03</td>\n",
       " <td>1</td>\n",
       " <td>1</td>\n",
       " <td>19.270181</td>\n",
       " <td>3</td>\n",
       " </tr>\n",
       " <tr>\n",
       " <th>4</th>\n",
       " <td>2018-03-03</td>\n",
       " <td>1</td>\n",
       " <td>1</td>\n",
       " <td>28.049684</td>\n",
       " <td>4</td>\n",
       " </tr>\n",
       " </tbody>\n",
       "</table>\n",
       "</div>"
      ],
      "text/plain": [
       " date test1_pass_fail test2_pass_fail process_param widget_id\n",
       "0 2018-03-03 1 1 16.154771 0\n",
       "1 2018-03-03 1 1 23.180473 1\n",
       "2 2018-03-03 1 1 17.247763 2\n",
       "3 2018-03-03 1 1 19.270181 3\n",
       "4 2018-03-03 1 1 28.049684 4"
      ]
     },
     "execution_count": 41,
     "metadata": {},
     "output_type": "execute_result"
    }
   ],
   "source": [
    "### concat the fail data together, think of the python zip() function\n",
    "### the resulting dataframe will have for each date, a number of passes and fails\n",
    "### think of this as a single widget per row\n",
    "example_df = pd.concat([date_index, test1_yld, test2_yld, process_param, widget_id], axis=1)\n",
    "example_df.head()"
   ]
  },
  {
   "cell_type": "code",
   "execution_count": 42,
   "metadata": {},
   "outputs": [
    {
     "data": {
      "text/html": [
       "<div>\n",
       "<style scoped>\n",
       " .dataframe tbody tr th:only-of-type {\n",
       " vertical-align: middle;\n",
       " }\n",
       "\n",
       " .dataframe tbody tr th {\n",
       " vertical-align: top;\n",
       " }\n",
       "\n",
       " .dataframe thead th {\n",
       " text-align: right;\n",
       " }\n",
       "</style>\n",
       "<table border=\"1\" class=\"dataframe\">\n",
       " <thead>\n",
       " <tr style=\"text-align: right;\">\n",
       " <th></th>\n",
       " <th>test1_yld</th>\n",
       " <th>test2_yld</th>\n",
       " <th>num_widgets</th>\n",
       " </tr>\n",
       " <tr>\n",
       " <th>date</th>\n",
       " <th></th>\n",
       " <th></th>\n",
       " <th></th>\n",
       " </tr>\n",
       " </thead>\n",
       " <tbody>\n",
       " <tr>\n",
       " <th>2018-03-03</th>\n",
       " <td>0.600000</td>\n",
       " <td>1.000000</td>\n",
       " <td>10</td>\n",
       " </tr>\n",
       " <tr>\n",
       " <th>2018-03-04</th>\n",
       " <td>0.666667</td>\n",
       " <td>0.833333</td>\n",
       " <td>12</td>\n",
       " </tr>\n",
       " <tr>\n",
       " <th>2018-03-05</th>\n",
       " <td>0.833333</td>\n",
       " <td>1.000000</td>\n",
       " <td>18</td>\n",
       " </tr>\n",
       " <tr>\n",
       " <th>2018-03-06</th>\n",
       " <td>0.571429</td>\n",
       " <td>0.714286</td>\n",
       " <td>7</td>\n",
       " </tr>\n",
       " <tr>\n",
       " <th>2018-03-07</th>\n",
       " <td>0.888889</td>\n",
       " <td>0.777778</td>\n",
       " <td>9</td>\n",
       " </tr>\n",
       " <tr>\n",
       " <th>2018-03-08</th>\n",
       " <td>0.500000</td>\n",
       " <td>0.900000</td>\n",
       " <td>20</td>\n",
       " </tr>\n",
       " <tr>\n",
       " <th>2018-03-09</th>\n",
       " <td>0.800000</td>\n",
       " <td>0.933333</td>\n",
       " <td>15</td>\n",
       " </tr>\n",
       " </tbody>\n",
       "</table>\n",
       "</div>"
      ],
      "text/plain": [
       " test1_yld test2_yld num_widgets\n",
       "date \n",
       "2018-03-03 0.600000 1.000000 10\n",
       "2018-03-04 0.666667 0.833333 12\n",
       "2018-03-05 0.833333 1.000000 18\n",
       "2018-03-06 0.571429 0.714286 7\n",
       "2018-03-07 0.888889 0.777778 9\n",
       "2018-03-08 0.500000 0.900000 20\n",
       "2018-03-09 0.800000 0.933333 15"
      ]
     },
     "execution_count": 42,
     "metadata": {},
     "output_type": "execute_result"
    }
   ],
   "source": [
    "### summarize the average pass value by date. This will be your yield trend\n",
    "### you can also aggregate the \"nunique\" pandas function to count the unique number of widgets per date\n",
    "yield_trend = example_df.groupby('date').agg({'test1_pass_fail': 'mean',\n",
    " 'test2_pass_fail': 'mean',\n",
    " 'widget_id': lambda rows: rows.nunique()}) #rows is the *grouped* series of data\n",
    "\n",
    "# rename the columns \n",
    "yield_trend.rename(columns = {'test1_pass_fail': 'test1_yld', \n",
    " 'test2_pass_fail': 'test2_yld',\n",
    " 'widget_id': 'num_widgets'}, \n",
    " inplace=True)\n",
    "\n",
    "# print the dataframe\n",
    "yield_trend"
   ]
  },
  {
   "cell_type": "code",
   "execution_count": 43,
   "metadata": {},
   "outputs": [],
   "source": [
    "# set up global plot size\n",
    "from pylab import rcParams\n",
    "rcParams['figure.figsize'] = 13, 7"
   ]
  },
  {
   "cell_type": "code",
   "execution_count": 44,
   "metadata": {},
   "outputs": [
    {
     "data": {
      "image/png": "[encoded data removed]",
      "text/plain": [
       "<Figure size 936x504 with 3 Axes>"
      ]
     },
     "metadata": {
      "needs_background": "light"
     },
     "output_type": "display_data"
    }
   ],
   "source": [
    "# plot bar chart for widget count in graph (1st y axis)\n",
    "ax = yield_trend.plot(y='num_widgets', kind='bar', alpha=0.4, color='r', legend=None);\n",
    "\n",
    "# for each bar, put a text label above it with the actual count value\n",
    "for p in ax.patches:\n",
    " ax.annotate(np.round(p.get_height(),decimals=2), (p.get_x()+p.get_width()/2., p.get_height()), ha='center', va='center', xytext=(0, 10), textcoords='offset points')\n",
    "\n",
    "# establish your 2nd and 3rd y axis and positions\n",
    "ax2 = ax.twinx()\n",
    "ax3 = ax.twinx()\n",
    "ax3.spines[\"right\"].set_position((\"axes\", 1.1))\n",
    "\n",
    "# on your 3rd y axis, plot a boxplot. This will show for each date, this distribution of your process param\n",
    "bp = example_df.boxplot(column='process_param', by='date', ax=ax3, widths = 0.25, return_type='dict', positions=list(range(0,len(plt.gca().get_xticks()))));\n",
    "\n",
    "# for each yield column, make a line plot, your label will be you column in the legend\n",
    "for col in ['test1_yld', 'test2_yld']:\n",
    " ax2.plot(ax.get_xticks(), yield_trend[col], label=col, marker='o');\n",
    "ax2.legend(loc='lower center', bbox_to_anchor=(0.5, 0.90),\n",
    " fancybox=True, shadow=True, ncol=5);\n",
    "\n",
    "plt.suptitle('Yield Trend Chart')\n",
    "plt.title('')\n",
    "\n",
    "ax2.grid(True, axis='y')\n",
    "ax.grid(True, axis='x')\n",
    "ax3.grid(False)\n",
    "ax.set_ylabel('WIDGET COUNT')\n",
    "ax2.set_ylabel('YIELD')\n",
    "ax3.set_ylabel('seconds at process step x')\n",
    "ax.set_ylim(0, 40);\n",
    "\n",
    "len(plt.gca().get_xticks());\n",
    "# plt.show();"
   ]
  },
  {
   "cell_type": "code",
   "execution_count": null,
   "metadata": {},
   "outputs": [],
   "source": []
  }
 ],
 "metadata": {
  "kernelspec": {
   "display_name": "Python 3",
   "language": "python",
   "name": "python3"
  },
  "language_info": {
   "codemirror_mode": {
    "name": "ipython",
    "version": 3
   },
   "file_extension": ".py",
   "mimetype": "text/x-python",
   "name": "python",
   "nbconvert_exporter": "python",
   "pygments_lexer": "ipython3",
   "version": "3.6.7"
  }
 },
 "nbformat": 4,
 "nbformat_minor": 2
}
